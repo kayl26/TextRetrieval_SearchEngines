{
 "cells": [
  {
   "cell_type": "markdown",
   "metadata": {},
   "source": [
    "# CP423: Assignment 1\n",
    "\n",
    "Group Number: 5\n",
    "\n",
    "Group Members: Abigail Lee (200469770), Kayleigh Habib (200370580) and Myisha Chaudhry (200591740)"
   ]
  },
  {
   "cell_type": "code",
   "execution_count": 1,
   "metadata": {},
   "outputs": [],
   "source": [
    "# inputs\n",
    "import csv\n",
    "import numpy as np\n",
    "import pandas as pd\n",
    "import seaborn as sns\n",
    "import matplotlib.pyplot as plt\n",
    "\n",
    "\n",
    "import nltk\n",
    "\n",
    "nltk.download(\"stopwords\")\n",
    "from nltk.corpus import stopwords\n",
    "from nltk.tokenize import word_tokenize\n"
   ]
  },
  {
   "cell_type": "code",
   "execution_count": null,
   "metadata": {},
   "outputs": [],
   "source": [
    "# import data files\n",
    "data = pd.read_csv(\"\")"
   ]
  },
  {
   "cell_type": "markdown",
   "metadata": {},
   "source": [
    "## Question 1 : Text Preprocessing \n",
    "a. Convert all text to lowercase\n",
    "\n",
    "b. Tokenize the text using NLTK\n",
    "\n",
    "c. Remove stop words using NLTK\n",
    "\n",
    "d. Exclude special characters except alphanumeric characters\n",
    "\n",
    "e. Eliminate singly occurring characters\n",
    "\n",
    "f. Create a set of all the words"
   ]
  },
  {
   "cell_type": "code",
   "execution_count": null,
   "metadata": {},
   "outputs": [],
   "source": [
    "# a\n",
    "# str.tolower(sentence)\n",
    "\n",
    "#b\n",
    "#nltk.word_tokenize(sentence)\n",
    "\n",
    "#c\n",
    "#stop_words = set(stopwords.words(\"english\"))\n",
    "#newData[\"shorter_text\"] = newData[\"text\"].apply(lambda x: ' '.join([word for word in x.split() if word.lower() not in (stop_words)]))\n",
    "\n",
    "#d\n",
    "\n",
    "\n",
    "#e\n",
    "\n",
    "#f\n",
    "\n"
   ]
  },
  {
   "cell_type": "markdown",
   "metadata": {},
   "source": [
    "## Question 2 : Inverted Index Implementation\n",
    "Implement an inverted index data structure for the preprocessed dataset \n"
   ]
  },
  {
   "cell_type": "code",
   "execution_count": null,
   "metadata": {},
   "outputs": [],
   "source": [
    "# tree / hash table?"
   ]
  },
  {
   "cell_type": "markdown",
   "metadata": {},
   "source": [
    "## Question 3: Query Support\n",
    "Support the following queries, where x and y would be taken as input from the user\n",
    "\n",
    "1. x OR y\n",
    "\n",
    "2. x AND y\n",
    "\n",
    "3. x AND NOT y\n",
    "\n",
    "4. x OR NOT y\n"
   ]
  },
  {
   "cell_type": "code",
   "execution_count": null,
   "metadata": {},
   "outputs": [],
   "source": []
  },
  {
   "cell_type": "markdown",
   "metadata": {},
   "source": [
    "## Question 4: System Evaluation\n",
    "Evaluate your system against the set of provided queries. \n",
    "\n",
    "1. Query #1\n",
    "\n",
    "- Input Sentence: \"lion stood thoughtfully for a moment\"\n",
    "\n",
    "- Input operation sequence: [OR, OR, OR]\n",
    "\n",
    "- Expected preprocessed query: \"lion OR stood OR thoughtfully OR moment\"\n",
    "\n",
    "2. Query #2\n",
    "\n",
    "- Input Sentence: \"telephone, paved, roads\"\n",
    "\n",
    "- Input operation sequence: [OR NOT, AND NOT]\n",
    "\n",
    "- Expected preprocessed query: \"telephone OR NOT paved AND NOT roads\n",
    "\n",
    "\n",
    "Output should include:\n",
    "- The number of documents retrieved\n",
    "\n",
    "- The minimum number of total comparisons made (only for merging the algorithm)\n",
    "\n",
    "- The list of retrieved document names"
   ]
  },
  {
   "cell_type": "code",
   "execution_count": null,
   "metadata": {},
   "outputs": [],
   "source": [
    "# "
   ]
  },
  {
   "cell_type": "code",
   "execution_count": null,
   "metadata": {},
   "outputs": [],
   "source": [
    "# displaying the required print statements\n",
    "print(\"Number of matched documents: \")\n",
    "print(\"Minimum number of comparisons required\")\n",
    "print(\"List of retreived document names: \")\n"
   ]
  }
 ],
 "metadata": {
  "kernelspec": {
   "display_name": "Python 3",
   "language": "python",
   "name": "python3"
  },
  "language_info": {
   "codemirror_mode": {
    "name": "ipython",
    "version": 3
   },
   "file_extension": ".py",
   "mimetype": "text/x-python",
   "name": "python",
   "nbconvert_exporter": "python",
   "pygments_lexer": "ipython3",
   "version": "3.11.2"
  }
 },
 "nbformat": 4,
 "nbformat_minor": 2
}
