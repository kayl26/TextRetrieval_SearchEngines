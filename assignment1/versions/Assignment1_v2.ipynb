{
  "cells": [
    {
      "cell_type": "markdown",
      "metadata": {
        "id": "vFj5zP--qYUN"
      },
      "source": [
        "# CP423: Assignment 1\n",
        "\n",
        "Group Number: 5\n",
        "\n",
        "Group Members: Abigail Lee (200469770), Kayleigh Habib (200370580) and Myisha Chaudhry (200591740)"
      ]
    },
    {
      "cell_type": "code",
      "execution_count": 1,
      "metadata": {
        "id": "QOMJiPs5qYUP"
      },
      "outputs": [],
      "source": [
        "# MIGHT NEED TO RUN THIS FOR THE NLTK\n",
        "# pip install certifi"
      ]
    },
    {
      "cell_type": "code",
      "execution_count": 2,
      "metadata": {
        "id": "FHuZV0qFqYUQ"
      },
      "outputs": [],
      "source": [
        "import certifi\n",
        "import ssl\n",
        "import os\n",
        "\n",
        "os.environ[\"SSL_CERT_FILE\"] = certifi.where()"
      ]
    },
    {
      "cell_type": "code",
      "execution_count": 3,
      "metadata": {
        "id": "UUAdJUSpqYUQ",
        "outputId": "e69c023c-d042-4447-b7c9-c5a4041c0c95",
        "colab": {
          "base_uri": "https://localhost:8080/"
        }
      },
      "outputs": [
        {
          "output_type": "stream",
          "name": "stderr",
          "text": [
            "[nltk_data] Downloading package punkt to /root/nltk_data...\n",
            "[nltk_data]   Unzipping tokenizers/punkt.zip.\n",
            "[nltk_data] Downloading package stopwords to /root/nltk_data...\n",
            "[nltk_data]   Unzipping corpora/stopwords.zip.\n"
          ]
        }
      ],
      "source": [
        "# inputs\n",
        "\n",
        "import os\n",
        "import re\n",
        "\n",
        "\n",
        "import nltk\n",
        "nltk.download('punkt')\n",
        "nltk.download(\"stopwords\")\n",
        "from nltk.corpus import stopwords\n",
        "from nltk.tokenize import word_tokenize"
      ]
    },
    {
      "cell_type": "markdown",
      "metadata": {
        "id": "fMI_dT14qYUQ"
      },
      "source": [
        "## Question 1 : Text Preprocessing\n",
        "a. Convert all text to lowercase\n",
        "\n",
        "b. Tokenize the text using NLTK\n",
        "\n",
        "c. Remove stop words using NLTK\n",
        "\n",
        "d. Exclude special characters except alphanumeric characters\n",
        "\n",
        "e. Eliminate singly occurring characters\n",
        "\n",
        "f. Create a set of all the words"
      ]
    },
    {
      "cell_type": "code",
      "execution_count": 8,
      "metadata": {
        "id": "rigjoVIdqYUR"
      },
      "outputs": [],
      "source": [
        "def text_preprocessing(file):\n",
        "\n",
        "    # reading the file line by line\n",
        "    lines = file.readlines()\n",
        "\n",
        "    # a. converting to lowercase\n",
        "    lines = [x.lower() for x in lines]\n",
        "\n",
        "    # join all the lines into one string\n",
        "    data = \"\".join(lines)\n",
        "\n",
        "    # b. using the tokenization package to tokenize the words\n",
        "    tokenization = word_tokenize(data)\n",
        "\n",
        "    # remove duplicates - less words to do the next steps with\n",
        "    newtoken = list(dict.fromkeys(tokenization))\n",
        "\n",
        "    # c. remove any stop words from the NLTK package\n",
        "    stop_words_lib = set(stopwords.words(\"english\")) # choosing the english stopwords from the package\n",
        "\n",
        "    # goes through each word, and checks if it is in the library - if it is not then we keep the word, if it is we don't take it\n",
        "    stop_words = []\n",
        "    for word in newtoken:\n",
        "            if word not in stop_words_lib:\n",
        "                 stop_words.append(word)\n",
        "\n",
        "    # print(stop_words)\n",
        "\n",
        "    # d. Remove special characters\n",
        "    pattern = \"[^a-z0-9]\" # pattern NOT with any letter between a-z or any number including 0-9 (could also do A-Z but since we already made everything lower don't need to add that)\n",
        "    alphanumerictxt = []\n",
        "    # goes through each index in the list and if it matches the pattern it will put an empty string otherwise will preserve the value\n",
        "    # strips the empty string afterwards\n",
        "    for i in stop_words:\n",
        "        alphanumerictxt.append(re.sub(pattern,\" \", i).strip())\n",
        "\n",
        "    # e. eliminating any characters of length 1\n",
        "    updated_list = []\n",
        "\n",
        "    # goes through each index in the list and if the length is more than 1 will append to new list\n",
        "    for i in alphanumerictxt:\n",
        "        if len(i)>1:\n",
        "            updated_list.append(i)\n",
        "\n",
        "    # after all the other steps are completed check again to make sure no duplicated values\n",
        "    final_list = list(dict.fromkeys(updated_list))\n",
        "\n",
        "    #f\n",
        "    return final_list\n"
      ]
    },
    {
      "cell_type": "code",
      "execution_count": 14,
      "metadata": {
        "id": "-9skAm3HqYUR",
        "colab": {
          "base_uri": "https://localhost:8080/"
        },
        "outputId": "190cd504-d61e-4a38-a79c-2b0786a4cd85"
      },
      "outputs": [
        {
          "output_type": "stream",
          "name": "stdout",
          "text": [
            "{1: ['earth', 'dreamlands', '313', '558 5024', '9600', 'v 32', 'sysop', 'gug', 'game', 'master', 'support', 'bbs', 'rpg', 'homebrew', 'beer', 'fiction', 'text', 'tears', 'glass', 'chapter', '1992', 'kimberly', 'ann', 'carter', 'win', 'big', 'momma', 'fallen', 'angel', 'lose', 'livin', 'lies', 'wants', 'rolling', 'dice', 'life', 'poison', 'crystal', 'leaned', 'heavily', 'open', 'door', 'refrigerator', 'peering', 'brightly', 'lit', 'interior', 'wondering', 'bowlful', 'leftovers', 'least', 'chance', 'killing', 'finally', 'decided', 'leftover', 'pizza', 'cheese', 'sausage', 'chocolate', 'milk', 'carton', 'still', 'half', 'full', 'kicked', 'fridge', 'shut', 'stood', 'front', 'oak', 'wood', 'cabinets', 'debating', 'whether', 'needed', 'plate', 'shrugging', 'dismissed', 'idea', 'elbowed', 'kitchen', 'light', 'headed', 'dark', 'living', 'room', 'tripped', 'amplifier', 'sat', 'floor', 'fumbled', 'switch', 'track', 'lighting', 'leapt', 'eye balled', 'grimace', 'scores', 'sheet', 'music', 'littered', 'wadded', 'little', 'balls', 'crumpled', 'mainly', 'strewn', 'everywhere', 'compact', 'discs', 'records', 'tapes', 'scattered', 'top', 'bar', 'along', 'half empty', 'glasses', 'pens', 'pencils', 'electric', 'pencil', 'sharpener', 'set', 'headphones', 'amp', 'hook', 'earrings', 'dodgers', 'baseball', 'cap', 'bra', 'phone', 'numbers', 'taped', 'entertainment', 'center', 'added', 'colorful', 'clash', 'pile', 'socks', 'next', 'large', 'roland', 'keyboard', 'component', 'unit', 'middle', 'hand held', 'synthesizer', 'lay', 'black', 'sectional', 'wires', 'winding', 'unknown', 'high heeled', 'boots', 'pair', 'high top', 'gym', 'shoes', 'coffee', 'table', 'magazines', 'occupied', 'one', 'velour', 'chair', 'newspapers', 'another', 'gon', 'na', 'clean', 'place', 'sometime', 'thought', 'tried', 'recall', 'carpeting', 'looked', 'like', 'failed', 'soon', 'said', 'loud', 'noone', 'deciding', 'eat', 'bedroom', 'knowing', 'fact', 'better', 'making', 'back', 'piece', 'clicked', 'enshrouding', 'mess', 'darkness', 'towards', 'difference', 'though', 'lights', 'came', 'see', 'feel', 'king size', 'bed', 'piled', 'high', 'pillows', 'far', 'wall', 'pillow', 'encased', 'either', 'pink', 'sham', 'matched', 'comforter', 'heavy', 'curtains', 'hung', 'huge', 'picture', 'window', 'two', 'dresses', 'accented', 'silver', 'ebony', 'lounge', 'took', 'bulk', 'hat', 'stand', 'holding', 'array', 'many', 'different', 'kinds', 'hats', 'walk in', 'closet', 'could', 'tile', 'bathroom', 'glancing', 'dresser', 'avert', 'eyes', 'enormous', 'mail', 'accumulated', 'frowning', 'put', 'scooped', 'went', 'grimaced', 'slight', 'pain', 'chest', 'ignoring', 'flopped', 'began', 'reading', 'munched', 'make', 'dent', 'bills', 'junk', 'fan', 'letters', 'invitations', 'catalogs', 'halfway', 'rang', 'glanced', 'digital', 'alarm', 'clock', 'nightstand', 'time', 'read', '12 23', 'a m', 'means', 'nothing', 'musicians', 'reaching', 'felt', 'forgetting', 'something', 'hello', 'stating', 'rather', 'asking', 'hell', 'n t', 'called', 'bellowed', 'scratchy', 'deep', 'bronx', 'voice', 'end', 'raised', 'eyebrow', 'rip', 'inquired', 'else', 'would', 'growled', 'dunno', 'maybe', 'someone', 'nice', 'icily', 'problem', 'anyway', 'guitar', 'player', 'mind', 'probably', 'smoking', 'cigarette', 'running', 'long', 'fingers', 'shoulder length', 'hair', 'rumor', 're', 'start', 'working', 'home', 'dropped', '20', 'decibels', 'kinder', 'tone', 'bad', 'half eaten', 'slice', 'tossed', 'onto', 'wiped', 'hands', 'jeans', 'forced', 'remain', 'calm', 'saw', 'prescription', 'bottle', 'damn', 'forgot', 'jack', 'miller', 'tells', 've', 'rough', 'studio', 'caused', 'grit', 'teeth', 'know', 'shit', 'look', 'fine', 'dull', 'throbbing', 'made', 'mental', 'note', 'kick', 'ass', 'taking', 'pill', 'cancer', 'pretty', 'serious', 'bullshit', 'says', 'wo', 'even', 'give', 'chemotherapy', 'try', 'going', 'waste', 'got', 'pacing', 'doctors', 'say', 'survival', 'small', 'cell', 'anaplastic', 'carcinoma', 'deadly', 'well', 'thank', 'interrupted', 'ran', 'auburn', 'feeling', 'lengths', 'shag', 'cut', 'die', 'want', 'might', 'take', 'chemo', 'break', 'rat', 'race', 'whispered', 'mirror', 'hazel', 'brimming', 'unshed', 'intensified', 'fought', 'keep', 'ca', 'harshly', 'sounding', 'shaky', 'single', 'tear', 'slid', 'cheek', 'bones', 'shapely', 'lips', 'twisted', 'scowl', 'go', 'fighting', 'edged', 'razors', 'album', 'complete', '1 2', 'months', 'come', 'worked', 'hard', 'quit', 'squeezed', 'block', 'surging', 'pause', 'opened', 'new', 'heights', 'dizzy', 'staggered', 'forward', 'losing', 'balance', 'hit', 'temple', 'corner', 'sickening', 'crack', 'hand', 'rising', 'meet', 'enfold', 'welcome', 'blackness', 'knew', 'exit', 'enter', 'night', 'never never', 'land', 'sandman', 'metallica', 'voices', 'whispering', 'straining', 'hear', 'hollow', 'away', 'daddy', 'yes', 'pumpkin', 'mommy', 'love', 'us', 'anymore', 'loves', 'ever', 'coming', 'll', 'sweetie', 'yesss', 'angellll', 'leaving', 'tooo', 'angelll', 'never', 'leave', 'youuu', 'daughter', 'toooo', 'need', 'drunk', 'renee', 'edward', 'needs', 'father', 'refuse', 'expose', 'disease', 'sorry', 'eddd', 'swear', 'ittt', 'cryssstal', 'daaady', 'piano', 'lessonsss', 'crystalll', 'telephonee', 'tony', 'writing', 'bridge', 'song', 'tell', 'call', 'important', 'nurse', 'somebody', 'hospitalll', 'hang', 'sec', 'miss', 'dawnnnn', 'rockford', 'swedish', 'covenant', 'hospital', 'mother', 'brought', 'seems', 'overdose', 'cocaine', 'found', 'number', 'name', 'purse', 'there s', 'paperworkkk', 'thereee', 'fly', 'thisss', 'state', 'think', 'child', 'grateful', 'enough', 'rich', 'thing', 'thin', 'dime', 'becuase', 'sniff', 'nose', 'ungrateful', 'bitch', 'get', 'soooon', 'supposed', 'drive', 'san', 'francisco', 'god', 'funerals', 'tommorrow', 'dad', 'course', 'band', 'left', 'true', 'started', 'wildfire', 'wrote', 'onnnn', 'sooo', 'michel', 'guuuy', 'sicko', 'norman', 'bates', 'reject', 'love sick', 'groupie', 'rodney', 'ignatious', 'potts', 'hate', 'teased', 'guy', 'sends', 'roses', 'every', 'friggin', 'concert', 'sounds', 'gods', 'intentions', 'thanks', 'lot', 'rippp', 'mist', 'beauty', 'clear', 'scared', 'fear', 'waltzed', 'five', 'ago', 'dying', 'confused', 'rain', 'soothing', 'concentrate', 'confusion', 'right', 'everyone', 'sweetheart', 'tickets', 'words', 'swirling', 'together', 'unmistakeable', 'sound', 'flatline', 'lem', 'joel', 'fischoff', 'jnf', 'csc3b depaul edu', 'bi420', 'cleveland freenet edu', 'fredrick', '11th', 'generation', 'malkavian', 'contains', 'language', 'may', 'considered', 'unsuitable', 'younger', 'sensitive', 'readers', 'somehow', 'whatcha', 'story', 'reason', 'live', 'give when', 'cry', 'baby', 'save', 'tonight', 'aerosmith', 'cold', 'drrinkk', 'hot', 'burning', 'screamed', 'acid', 'pouring', 'throat', 'scorching', 'fluid', 'overflow', 'cheeks', 'insides', 'shriveling', 'liquid', 'contact', 'internal', 'organs', 'skin', 'blackening', 'cracking', 'intense', 'heat', 'singed', 'roots', 'body', 'engulfed', 'flames', 'melting', 'slowly', 'find', 'standing', 'nails', 'dug', 'arm', 'blood', 'flowing', 'gash', 'wrist', 'spilling', 'sheets', 'spattering', 'gown', 'pushing', 'smiled', 'laughter', 'showing', 'evergreen', 'much', 'tongue', 'around', 'inside', 'mouth', 'coppery', 'salty', 'taste', 'remained', 'weak', 'tired', 'drooped', 'sleep', 'heard', 'french', 'accent', 'quite', 'journey', 'ahead', 'brush', 'enveloped', 'straight', 'nightmare', 'reality', 'flew', 'forehead', 'gauze', 'bandage', 'material', 'funny', 'gone', 'threw', 'covers', 'i v', 'ripped', 'hungry', 'wanted', 'real', 'meal', 'steak', 'dinner', 'crossed', 'rare', 'climbed', 'burst', 'questioned', 'young', 'handsome', 'breath', 'dawn', 'please', 'older', 'doctor', 'firmly', 'beefy', 'noticed', 'balding', 'sure', 'smells', 'good', 'wonder', 'cooking', 'cafeteria', 'doll', 'terrific', 'hunger', 'pang', 'removing', 'head', 'terrible', 'ordeal', 'since', 'admitted', 'nights', 'jesus', 'christ', 'flatlined', 'period', 'done', 'everything', 'first', 'shifted', 'uncomfortably', 'consider', 'lucky', 'alive', 'lady', 'nodded', 'old', 'flashed', 'great', 'ages', 'adjusted', 'rest', 'send', 'promise', 'pushed', 'crawford', 'stay', 'till', 'turned', 'elder', 'damnedest', 'thier', 'became', 'unintelligible', 'outside', 'inhaled', 'deeply', 'understand', 'smelled', 'heart', 'pumping', 'let', 'blanket', 'kind', 'clothes', 'hanging', 'vision', 'spattered', 'rose', 'unbidden', 'frowned', 'shook', 'fast', 'screw', 'grab', 'burger', 'mcdonald', 'demanded', 'untying', 'walked', 'loudly', 'fuck', 'reached', 'push', 'realized', 'really', 'piss', 'pricking', 'sensation', 'angry', 'absolutely', 'starving', 'calling', 'finish', 'grabbed', 'arms', 'crushing', 'grip', 'sank', 'fangs', 'neck', 'hey', 'letter', 'includes', 'recently', 'sent', 'message', 'anyone', 'seen', 'previous', 'referring', 'toreador', 'title', 'used', 'subsequent', 'ones', 'typed', 'accidentally', 'walls', 'way', 'fell', 'tweeter', 'monkey', 'man', 'travelling', 'wilburys', 'warm', 'gush', 'tasted', 'saltiness', 'swallowed', 'anger', 'subsided', 'jerked', 'angrily', 'bruise', 'shouted', 'back peddled', 'keeping', 'entire', 'rockers', 'especially', 'weird', 'matter', 'pulled', 'pissed', 'bite', 'blue', 'what s', 'gross', 'oh', 'yuck', 'believe', 'thinking', 'must', 'remembered', 'face', 'swam', 'happened', 'chewed', 'lower', 'lip', 'boot', 'bastard', 'hurt', 'trust', 'creep', 'leaves', 'stamped', 'half shirt', 'leather', 'gritting', 'struggled', 'biker', 'jacket', 'mad', 'dreaming', 'shouldering', 'peeked', 'hallway', 'empty', 'moment', 'quietly', 'walking', 'tip', 'toes', 'three', 'inch', 'heels', 'click', 'marked', 'stairs', 'thinkin', 'screwy', 'lump', 'noggin', 'reasoned', 'rounded', 'landing', 'fifth', 'bit', 'person', 'crazy', 'staring', '6th', 'brown', 'pleaded', 'gentle', 'rapping', 'urged', 'knob', 'freed', 'geek', 'tall', 'wild', 'smile', 'ignore', 'continued', 'followed', 'increased', 'pace', 'movies', 'raving', 'lunatics', 'last', '10', 'years', 'always', 'kept', 'third', 'second', 'stopped', 'abruptly', 'stepped', 'bare', 'feet', 'help', 'asked', 'coolly', 'crammed', 'pockets', 'uh', 'stammered', 'hi', 'rolled', 'geeky', 'sleeves', 'pooled', 'hips', 'flared', 'knees', 'looks', 'holly', 'hobbie', 'demonic', 'grin', 'axe', 'fred', 'offered', 'extended', 'eye', 'palm', 'sweaty', 'dryly', 'tilted', 'side', 'yeah', 'screwball', 'definitely', 'closed', 'frame', 'asks', 'question', 'replied', 'step', 'maneuvered', 'counted', 'care', 'curious', 'blocked', 'path', 'cleared', 'grinning', 'minute', 'blurted', 'sighed', 'guessed', 'yell', 'adam', 'fiercely', 'softly', 'banister', 'nerd', 'psychotic', 'harmless', 'imagination', 'overtime', 'private', 'chances', 'seemed', 'mighty', 'slim', 'happens', 'sounded', 'relieved', 'wait', 'looking', 'frightened', 'patted', 'slunk', 'quick', 'search', 'personal', 'lockers', 'jimmied', 'nail', 'file', 'street', 'wallet', 'car', 'keys', 'cash', 'except', 'cab', 'fare', 'aloud', 'fingered', 'jeep', 'scanned', 'license', 'returned', 'locker', 'crept', 'stairwell', 'nowhere', 'unconscious', 'annoyance', 'knocked', 'cool', 'ride', 'somewhere', 'without', 'trouble', 'drove', 'cake', 'stated', 'surprised', 'i m', 'stared', 'space', 'response', 'yo', 'huh', 'drivin', 'remembering', 'dream', 'told', 'dreams', 'gripped', 'steering', 'wheel', 'knuckles', 'white', 'forcefully', 'quiet', 'visiting', 'sister', 'lied', 'reply', 'familiar', 'guess', 'enthusiastically', 'wail', 'siren', 'sentence', 'police', 'appeared', 'rear view', 'crystals', 'foot', 'gas', 'shot', 'south', 'lake', 'shore', 'navy', 'pier', 'short', 'ways', 'distance', 'traffic', 'ten', 'pounds', 'heavier', 'held', 'yelled', 'quickly', 'people', 'milling', 'boat', 'docked', 'pirate', 'ship', 'sorts', 'checked', 'gaining', 'cops', 'crowd', 'works', 't v', 'stop', 'run', 'shoulder', 'pedal', 'braced', 'gained', 'ground', 'park', 'dropping', 'transmission', 'gears', 'metal', 'jumped', 'screech', 'tires', 'heading', 'bought', 'grabbing', 'ear', 'nervously', 'hole', 'apparently', 'sunk', 'grounded', 'led', 'peered', 'hide', 'pointing', 'wrinkled', 'eyed', 'splintered', 'worry', 'okay', 'rope', 'guard', 'gaping', 'lots', 'sharp', 'fred s', 'tightly', 'murmured', 'bounced', 'giving', 'echo', 'inky', 'yet', 'board', 'creaked', 'behind', 'froze', 'clamped', 'free', 'shhhh', 'hissed', 'hours', 'gave', 'location', 'possible', 'pursuer', 'warped', 'badly', 'repair', 'commented', 'stale', 'air', 'smell', 'decay', 'joked', 'sick', 'trying', 'immediately', 'spied', 'gestured', 'moved', 'glad', 'thankful', 'boring', 'dead', 'weakly', 'move', 'stuck', 'blanched', 'numbly', 'poker', 'plastered', 'motioned', 'placed', 'splintering', 'ouch', 'bleeding', 'splash', 'maniac', 'doorway', 'proceeded', 'spurted', 'teenager', 'drink', 'victim', 'happen', 'throwing', 'eternity', 'glistening'], 2: ['anyone', 'worked', 'simply', 'understand', 'mille', 'vennamun', 'introduction', 'use', 'ashes', 'bureau', 'procuration', 'manual', 'half', 'past', 'eight', 'bedside', 'alarm', 'woke', 'kelanie', 'sampled', 'victory screech', 'carnivorous', 'xenoform', 'immediately', 'eyes', 'wide', 'fingers', 'clawing', 'pillow pads', 'gasping', 'shock', 'subconsciously induced', 'adrenalin', 'shivered', 'system', 'calmed', 'pupils', 'dilated', 'crisis', 'induced', 'pinpricks', 'breathing', 'pulse', 'rates', 'returned', 'normal', 'wondered', 'first', 'last', 'time', 'life', 'like', 'private', 'sector', 'scrambled', 'bed', 'began', 'deflate', 'retract', 'wall', 'personalised', 'holographic', 'news', 'service', 'activated', 'stepped', 'shower', 'took', 'appearance', 'old', 'man', 'dressed', 'monk', 'habit', 'bore', 'strong', 'resemblance', 'william', 'burroughs', 'leered', 'croaked', 'rough', 'night', 'pushed', 'oxygen', 'control', 'heel', 'hand', 'deep', 'snorts', 'stream', 'high pressure', 'hot', 'water', 'soaped', 'replied', 'mind', 'ratty', 'business', 'line noise', 'agenda', 'today', 'laughed', 'wheezing', 'rasping', 'come', 'seriously', 'refuse', 'believe', 'n t', 'remember', 'event', 'awaiting', 'long', 'turned', 'snorted', 'warm', 'towel', 'shoulders', 'found', 'clean', 'underwear', 'jumper', 'worn', 'three', 'times', 'since', 'washed', 'months', 'assume', 've', 'export', 'waiting', 'list', 'forgotten', 'supposed', 'going', 'put', 'music', 'refresh', 'memory', 'spoke', 'soft', 'sounds', 'song', 'mortal', 'coil', 'due', 'nosan no os', 'nine thirty', 'check', 'pre flight', 'examination', 'briefing', 'vigorously', 'towelling', 'hair', 'wondering', 'pelvic', 'exercises', 'looked', 'ship', 'arrive', 'afternoon', 'departs', 'copperla', 'syndaine', 'points', 'towards', 'galactic', 'centre', 'eleven fifty', 'morning', 'smiled', 'wryly', 'eh', 'government', 'agency', 'entitled', 'detailed', 'information', 'lowered', 'simulated', 'eyebrows', 'intoned', 'still', 'recognise', 'interim', 'opinion', 'maracites', 'office', 'ninety two', 'years', 'treated', 'one', 'mech', 'boots', 'looking', 'closet', 'retorted', 'voice', 'muffled', 'stuff', 'decency', 'common', 'courtesy', 'would', 'nice', 'sub contracted', 'carefully', 'neutral', 'tone', 'remind', 'miss', 'camden', 'regard', 'humanity', 'little', 'better', 'animals', 'transport', 'services', 'supplied', 'xenoforms', 'much', 'greater', 'level', 'social', 'sophistication', 'equal', 'disregard', 'term', 'none', 'favored', 'said', 'assurance', 'aphorism', 'nothing', 'boot', 'sipped', 'lemyn', 'juice', 'dispenser', 'cold booted', 'shuddered', 'purred', 'beeped', 'diagnostic', 'routines', 'finished', 'okay', 'assignment', 'nuh uh', 'sigh', 'leave', 'notepad', 'think', 'heap', 'clothes', 'next', 'dryer', 'retrieved', 'tapped', 'function', 'key', 'open', 'channel', 'pool', 'single', 'response', 'threw', 'mesh', 'bag', 'department', 'gurgled', 'back', 'touch', 'exasperation', 'sharpened', 'speaks', 'anglic', 'foogle', 'oh', 'nos a nos', 'pre reconciliation', 'scriptive', 'circle', 'within', 'dominant', 'ruling', 'bureaucracy', 'controlling', 'ninety', 'thousand', 'systems', 'virtue', 'monopoly', 'energy conversion', 'technology', 'foley', 'unofficial', 'documents', 'climbed', 'roof hatch', 'slid', 'seat', 'driver', 'buzzing', 'accent', 'destination', 'state', 'definition', 'wings', 'hey', 'buckled', 'safety', 'belt', 'head', 'rotated', 'hundred', 'eighty', 'degrees', 'faceted', 'something', 'resembling', 'six foot', 'stick', 'insect', 'indicating', 'correct', 'placement', 'chirred', 'cheap', 'translator', 'drive', 'slowly', 'waved', 'antennae', 'staring', 'column', 'instrument', 'panel', 'lifted', 'ground', 'av', 'traffic', 'overhead', 'hit', 'heads up', 'array', 'mandible', 'vehicle', 'filled', 'raucous', 'mariachi', 'gritting', 'teeth', 'paged', 'species', 'id', 'section', 'identified', 'lower caste', 'kaelen', 'reading', 'requesting', 'respectful', 'silence', 'involved', 'hive', 'separation', 'ritual', 'queen', 'emits', 'pheromone', 'scent', 'chem ref', '976541', 'traditional', 'cry', 'distress', 'screech tone', 'hear', 'aud ref', '976537', 'patched', 'audio', 'reference', 'held', 'point', 'speaker', 'behind', 'backwards', 'pointing', 'resonator plate', 'keyed', 'played', 'louder', 'expected', 'almost', 'fell', 'frantically', 'chewed', 'controls', 'cut', 'mid trumpet bray', 'interpersonal', 'relationships', 'placed', 'situation', 'obligation', 'error', 'kept', 'lower', 'caste', 'settled', 'concrete', 'pad', 'southern', 'edge', 'side', 'window', 'grinding', 'sound', 'poorly lubricated', 'biotech', 'fairings', 'relationship', 'emphasis', 'right', 'made', 'fist', 'splayed', 'large array', 'status', 'adjusted', 'meant', 'effect', 'way', 'indebted', 'exchange', 'mitigated', 'debt', 'somewhat', 'flattened', 'impressed', 'could', 'interpret', 'human', 'facial', 'expressions', 'xenos', 'bother', 'probably', 'university', 'student', 'strolled', 'across', 'expanse', 'swinging', 'shading', 'sun', 'forearm', 'apart', 'control customs', 'bunker', 'resembled', 'series', 'linked', 'ovals', 'crossed', 'six', 'outer', 'landing', 'pads', 'half expected', 'see', 'cricket', 'pitch', 'set', 'middle', 'met', 'warehouse sized', 'door', 'boy', 'appeared', 'twelve', 'wearing', 'bright', 'green', 'shorts', 't shirt', 'skate board', 'knees', 'brushed', 'aside', 'wayward', 'fringe', 'carrot coloured', 'hi', 'denkaster', 'port', 'administrator', 'followed', 'open space', 'offered', 'medical', 'records', 'handy', 'asked', 'sorting', 'pile', 'fiche', 'plates', 'cluttered', 'desk', 'nodded', 'touched', 'match', 'fields', 'emitted', 'familiar', 'screeee', 'notepads', 'matching', 'carrier', 'frequencies', 'exchanged', 'handshaking', 'signals', 'know', 'sighed', 'fraid', 'never', 'tell', 'us', 'anything', 'although', 'notes', 'relate', 'thanked', 'absently', 'started', 'paging', 'file', 'areas', 'usual', 'mis keyed', 'corrections', 'existing', 'documentation', 'sitting', 'departures', 'lounge', 'read', 'travel', 'millimillenary', 'central', 'passengers', 'ninety five', 'light', 'away', 'entertain', 'executive', 'tendeysharhi', 'heard', 'fact', 'either', 'wonderful', 'hell', 'work', 'sentient', 'seen', 'noted', 'rising', 'indignation', 'starkey', 'interview', 'members', 'entourage', 'view', 'picking', 'proper', 'etiquette', 'approach', 'angrily', 'punched', 'starkey s', 'phone', 'number', 'answered', 'though', 'employed', 'video', 'filters', 'prevent', 'identifying', 'weary', 'robyn', 'big', 'deal', 'make', 'alien', 'registry', 'even', 'oxygen breather', 'dearest', 'filtered', 'matched', 'aliased', 'squares', 'represented', 'lips', 'working', 'artificial', 'intelligence', 'case', 'surprised', 'wanted', 'keep', 'quiet', 'given', 'restrictions', 'machine based', 'consciousness', 'tad', 'apprehensive', 'giving', 'blow job', 'may', 'dick', 'sarcastically', 'palm', 'mass', 'pale', 'pink', 'display', 'projected', 'kelanie s', 'dumped', 'lap', 're', 'laying', 'money', 'humanist', 'faction', 'stopped', 'saw', 'want', 'get', 'drawn', 'another', 'tedious', 'political', 'argument', 'expression', 'face', 'well', 'base', 'seal', 'trade', 'agreement', 'else', 'say', 'start', 'ever', 'kely', 'thought', 'detected', 'smile', 'humans', 'despite', 'undoubtedly', 'wo', 'sardine', 'tin', 'ships', 'often', 'nearly', 'empty', 'heading', 'tilted', 'surrealist', 'image', 'showing', 'sure', 'salute', 'pressing', 'hanging', '000077', 'connection', 'established', 'i m', 'busy', 'moment', 'always', 'query', 'expenditure', 'authorisation', '492497a9', 'code', 'af1cf3c7f8c65e98a06ed63c87e542c', 'ahh', 'yes', 'miscellaneous', 'relating', 'termination', 'n frf knh k', 'seems', 'problem', '5x10', 'minus', 'two', 'cci', 'rather', 'lot', 'devote', 'elimination', 'race', 'indeed', 'justified', 'give', 'explanation', 'throw', 'quarterly', 'budget', 'place', 'accept', 'orders', 'shocking', 'execute', 'formulate', 'need', 'understood', 'particularly', 'pause', 'interested', 'viewing', 'simulations', 'projections', 'four', 'spare', 'might', 'find', 'illuminating', 'besides', 'ha', '997913', 'domain', 'borders', 'mine', 'quite', 'others', 'handling', 'taking', 'concern', 'properly', 'directly', 'concerned', 'matter', 'ah', 'contacted', 'call', 'intuition', 'suspected', 'absorb', 'somehow', 'prove', 'feasible', 'change', 'possible', 'trust', 'unallocated', 'psym', 'resources', 'certainly', 'meaning', 'let', 'priority', 'bumped', 'forty one', 'twenty eight', 'upset', 'napaisubs', 'bad', '200211', 'acting', 'strangely', 'quarter', 'napai', 'closing', 'napaisub', 'parkry', 'biological', 'anomaly', 'creatures', 'evolved', 'smaller', 'insectoid', 'form', 'developing', 'lungs', 'replace', 'smaller scale', 'spiracle', 'yet', 'voices', 'go', 'rely', 'completely', 'written', 'electronic', 'means', 'communication', 'thus', 'ideally', 'suited', 'administrative', 'positions', 'occupy', 'structure', 'entirely', 'pacifistic', 'territorial', 'imperatives', 'beyond', 'vague', 'sense', 'duty', 'evolutionary', 'part', 'replaced', 'martini', 'baton', 'chapter', 'absorbed', 'search', 'closed', 'database', 'doors', 'noticed', 'sky', 'overcast', 'however', 'sunlight', 'glinted', 'metallic', 'edges', 'nearby', 'building', 'signs', 'activity', 'around', 'stood', 'stretched', 'sauntered', 'nearest', 'gate', 'outside', 'bottom', 'huge', 'curved', 'shape', 'patterned', 'stained', 'sinking', 'line', 'oval', 'gap', 'twice', 'dark', 'black', 'glass', 'melt', 'stevedores', 'shifting', 'cargo', 'trolleys', 'care', 'avoid', 'short', 'figures', 'grey', 'scuttled', 'legs', 'rear', 'bay', 'knew', 'staff', 'blank', 'golden eyed', 'mouthless', 'beckoned', 'three jointed', 'arm', 'wait', 'merely', 'trotted', 'peered', 'round', 'hatch', 'metre', 'distaste', 'silent', 'glanced', 'underneath', 'brow', 'curiously', 'pointed', 'executed', '180 degree', 'turn', 'stick insect like', 'left', 'shrugged', 'hefted', 'apartment', 'spherical', 'lined', 'foam', 'rubber', 'faint', 'smell', 'aphrodisia', 'incense', 'berth', 'previously', 'occupied', 'kabouter hippies', 'datapoint', 'light source', 'sodium', 'glow', 'came', 'corridor', 'sat', 'crosslegged', 'floor', 'tossed', 'rolled', 'curve', 'room', 'rest', 'leg', 'local', 'data', 'albeit', 'limited', 'offering', 'departure', 'simple', 'interactive', 'map', 'restricted', 'marked', 'segmented', 'circle starburst', 'symbol', 'explore', 'decided', 'alone', 'prudence', 'disturbing', 'trip', 'take', 'seven', 'days', 'translation', 'accurate', 'according', 'info', 'postings', 'already', 'earth', 'orbit', 'felt', 'acceleration', 'motion', 'leaving', 'fixing', 'berth s', 'location', 'backbrain', 'try', 'deserted', 'ten', 'minutes', 'wandering', 'corridors', 'radiated', 'shaft', 'tacitly', 'ignoring', 'six legged', 'saint', 'bernard', 'circled', 'stock still', 'cautious', 'possibly', 'offensive', 'moves', 'impression', 'got', 'lacked', 'obvious', 'visual', 'organs', 'ran', 'breathed', 'relief', 'toilet', 'allowed', 'slight', 'measure', 'suspect', 'tertiary', 'language', 'word', 'related', 'concept', 'eventually', 'organic', 'recycling', 'proceeded', 'sponge', 'plastic', 'sealed', 'weak', 'field', 'contained', 'odour', 'chemicals', 'containing', 'water filled', 'pit', 'wrinkled', 'nose', 'assuring', 'facilities', 'firm', 'intention', 'spending', 'low', 'metabolic rate', 'sleep', 'large', 'cat', 'moggy', 'awoke', 'fixed', 'emerald', 'gaze', 'ears', 'froze', 'tall', 'thin', 'wiry', 'humanoid', 'covered', 'thick', 'banded', 'fur', 'jointed', 'tail', 'lashing', 'fro', 'fluffy', 'tufts', 'white', 'poking', 'mat', 'similar', 'running', 'chest', 'yowled', 'beep', 'apologetically', 'fortunately', 'snarled', 'anyhah araha', 'eiyaha', 'sort', 'chittering', 'xenoform s', 'terrestrial', 'thank', 'shaped', 'bottle', 'purring', 'noises', 'territory', 'xeno', 'apparently', 'opened', 'gone', 'spreading', 'property', 'claim', 'narrowed', 'growled', 'softly', 'continued', 'decide', 'interrupted', 'hastily', 'content', 'share', 'excessive', 'noise', 'excrete', 'buster', 'remembered', 'previous', 'experiences', 'translators', 'curled', 'compact', 'ball', 'lashed', 'warily', 'lay', 'beside', 'smiling', 'bemusedly', 'purr', 'composed', 'mental', 'prepare', 'period', 'extended', 'slowed', 'inserted', 'links', 'sub conscious', 'awaken', 'reason', 'drifted', 'dreamless', 'shifted', 'sleeping', 'forepaws', 'hips', 'small', 'deepened', 'husky', 'brrr', 'fully', 'gently', 'butted', 'riowr', 'tried', 'without', 'moving', 'body', 'paw', 'size', 'tennis', 'raquet', 'three centimetre long', 'claws', 'extending', 'sheathing', 'reflexively', 'making', 'tiny', 'indentations', 'bare', 'flesh', 'hip', 'proceeding', 'caution', 'free', 'quivered', 'full', 'five', 'centimetres', 'clutching', 'broad', 'span', 'millimetres', 'excuse', 'murmured', 'ignored', 'shouted', 'digging', 'twitched', 'remained', 'paused', 'native', 'sheathed', 'flicked', 'momentarily', 'excluding', 'personal', 'space', 'hour', 'whereupon', 'ywent', 'procedure', 'hours', 'gave', 'went', 'passageway', 'regained', 'later', 'visit', 'licked', 'dry', 'feet', 'doormat', 'stripes', 'gazing', 'intently', 'food', 'hungry', 'asleep', 'reported', 'uncurled', 'station', 'entered', 'fours', 'emerged', 'bloody', 'haunch', 'raw', 'meat', 'jaws', 'backed', 'slightly', 'regarded', 'air', 'surprise', 'waggled', 'tore', 'keeping', 'wary', 'eye', 'classic', 'example', 'parallel', 'evolution', 'resemble', 'superficially', 'felines', 'many', 'feline', 'traits', 'including', 'acute', 'territoriality', 'tends', 'subtly intoned', 'yowls', 'screeches', 'tendency', 'shed', 'amounts', 'certain', 'year', 'females', 'noticeably', 'violent', 'mates', 'develop', 'science', 'sufficient', 'begin', 'exploration', 'apprenticed', 'moridani', 'purge', 'join', 'subject', 'melted', 'breeze', 'wafted', 'entry', 'hold', 'carrying', 'strange', 'fragrance', 'world', 'golden bronze', 'hue', 'faded', 'gold', 'curious', 'yellow green', 'horizon', 'reminded', 'patina', 'folds', 'bronze', 'statues', 'dozens', 'different', 'languages', 'overlaid', 'formed', 'counterpoint', 'squeaks', 'pops', 'mellifluous', 'surging', 'chords', 'crashes', 'pressure', 'seemed', 'bit', 'higher', 'gravity', 'less', 'definitely', 'giddy', 'danced', 'exit', 'ramp', 'resisting', 'temptation', 'swing', 'clothes bag', 'cat like', 'raced', 'yowling', 'fire', 'vanished', 'crowd', 'rushing', 'board', 'ploughed', 'furrow', 'customs', 'hut', 'blue', 'geodesic', 'dome', 'triangular', 'archways', 'giddiness', 'tempered', 'sight', 'plateau', 'bythians', 'casually', 'lounging', 'toting', 'dull', 'weapons', 'itchy', 'tickling', 'feeling', 'accompanied', 'mass spectronometric', 'scanning', 'passed', 'doorway', 'alarms', 'assumed', 'devices', 'posessed', 'current', 'levels', 'acceptability', 'nasty', 'stories', 'people', 'commute', 'standard', 'interdicted', 'dropped', 'things', 'empathic', 'personality', 'emulators', 'nano gated', 'neuralnet', 'arrays', 'used', 'communicate', 'races', 'queue', 'leading', 'direction', 'smaller than average', 'propped', 'data post', 'holding', 'vocoder', 'hand set', 'waving', 'crossing', 'massaged', 'notepad s', 'responded', 'name', 'origin', 'purpose', 'a liiya', 'diplomatic', 'output', 'squeezed', 'glittering', 'interest', 'safe', 'knowledge', 'ignore', 'lose', 'bracelet', 'studded', 'pattern', 'dots', 'recorded', 'message', 'flat', 'unaccented', 'clothing', 'identification', 'staying', 'sell', 'planet', 'resistant', 'temperatures', 'above', 'post', 'poorly tuned', 'radio', 'below', 'bass pitched', 'dog', 'whine', 'please', 'note', 'thermonuclear', 'fusion', 'comoncurensy', 'isotope', 'detonation', 'thirty', 'megaton', 'range', 'watching', 'wrapped', 'wrist', 'pressed', 'ends', 'together', 'melded', 'piece', 'removed', 'authorised', 'agent', 'wandered', 'groups', 'queueing', 'processing', 'fished', 'video eyepiece', 'visited', 'japan', 'pouch', 'headband', 'eyepiece', 'pirate s', 'eyepatch', 'peep', 'carriers', 'blurred', 'processor', 'translated', 'various', 'translations', 'appended', 'spotted', 'newcomer', 'pretty', 'moire', 'patterns', 'indicate', 'thinking', 'specific', 'locate', 'also', 'moire patterns', 'obtained', 'embassy', 'lffre 77153', 'regarding', 'requirements', 'quoted', 'words', 'playing', 'sample', 'saying', 'available', 'displayed', 'designed', 'piet', 'mondrian', 'text', 'judge', 'distance', 'kilometres', 'places', 'closer', 'closest', 'maracite', 'lffrb 77151', 'ninety three', 'blocks', 'church', 'subgenius', 'llfrb 77122', 'fifty one', 'waddell', 'emporium', 'extremely', 'fashionable', 'attire', 'ice', 'cream', 'parlour', 'nrnal 10021', 'red', 'inverted', 'close', 'ice cream', 'block', 'snapshot', 'expanded', 'enough', 'details', 'city scape', 'entire', 'habitable', 'surface', 'divided', 'grid', 'buildings', 'reached', 'fifty', 'storeys', 'providing', 'third', 'dimension', 'required', 'show', 'streets', 'based', 'paved', 'slippery', 'ceramic', 'drab', 'utilitarian', 'hundreds', 'streamed', 'lane', 'foot traffic', 'least', 'beings', 'lanes', 'tended', 'disadvantage', 'sentients', 'became', 'apparent', 'easier', 'quicker', 'inner', 'trees', 'leaves', 'branches', 'dividing', 'progressively', 'sub dividing', 'thread like', 'tips', 'stroke', 'branch', 'thickness', 'finger', 'writhed', 'shop', 'russic', 'europan', 'katakana', 'beeps', 'hums', 'recognised', 'spent', 'concealed', 'hologram', 'two metre tall', 'chocolate', 'sundae', 'mouth', 'watering', 'located', 'store', 'displays', 'surrounding', 'theatrical', 'costumes', 'surely', 'no one', 'wore', 'elizabethan', 'ruffs', 'catered', 'dress', 'actual', 'ask', 'exactly', 'early', 'robert', 'smith', 'dejected looking', 'young', 'counter', 'cleaning', 'metal', 'blender', 'disassembled', 'metre tall', 'kiwi bird', 'hopped', 'reeee', 'reeeeeeee', 'glazed', 'cherry', 'bowl', 'caught', 'end', 'flexible', 'snout', 'jumped', 'approached', 'audible', 'click', 'order', 'stool', 'perched', 'leaped', 'dropping', 'rushed', 'grabbed', 'stared', 'intensity', 'trembling', 'seem', 'grew', 'look', 'hysterical', 'disbelief', 'says', 'god', 'laugh', 'hysterically', 'broke', 'grasp', 'front', 'shirt', 'laughing', 'shut', 'obliged', 'slap', 'abruptly', 'except', 'palm print', 'sorry', 'whispered', 'turning', 'stumbling', 'polishing rag', 'chain', 'bolted', 'ankle', 'catching', 'spinning', 'refused', 'meet', 'chin', 'struggle', 'shoulder', 'drew', 'hesitation', 'returning', 'attention', 'hungrily', 'hands', 'slipped', 'waist', 'hugging', 'forcing', 'onto', 'proceed', 'circumstance', 'someone', 'position', 'live', 'story', 'marek', 'great grandparents', 'venture', 'ago', 'district', 'development', 'tourist', 'oriented', 'prospered', 'owned', 'fiftieth', 'attracted', 'sub set', 'demanded', 'profits', 'grandparents', 'denounced', 'technocrats', 'employ', 'banished', 'marek s', 'parents', 'exile', 'indentured', 'trader', 'taken', 'rapidly', 'learned', 'done', 'hugged', 'ca', 'menial', 'mind numbing', 'labour', 'useful', 'scowled', 'knee deep', 'bureaucrats', 'spend', 'several', 'lifetimes', 'gradually', 'ranks', 'day', 'maybe', 'filch', 'packet', 'cartridges', 'realised', 'high', 'awkward', 'polished', 'already gleaming', 'spoon', 'stomach', 'gurgle', 'eating', 'longingly', 'ice cream like', 'substances', 'special', 'sharing', 'somewhere', 'hessian', 'sacks', 'alcove', 'evidently', 'home', 'wash trough', 'quietly', 'holograms', 'pasted', 'player', 'led', 'looks', 'tempted', 'anyway', 'aln', 'riker', 'defense', 'interdiction', 'trial', 'sore', 'throat', 'sharp', 'oxygen rich', 'afraid', 'escape', 'idly', 'stroked', 'cheek', 'inclination', 'recreational', 'emotion', 'revealed', 'isolation', 'deeply', 'schemes', 'releasing', 'servitude', 'received', 'deserve', 'arrived', 'mean', 'raised', 'markers', 'crates', 'identifier', 'criminal', 'warning', 'arrested', 'threat', 'questions', 'extr', 'suddenly', 'speaking', 'called', 'main', 'waiter', 'way y te r r', 'mildly', 'belonged', 'pre millennium', 'actor', 'rik', 'mayall', 'tones', 'generated', 'digital', 'sampler', 'draped', 'loose', 'bedding', 'material', 'realising', 'offended', 'naked', 'cloth', 'instead', 'complete', 'vocabulary', 'swollen', 'turtle', 'shell', 'metres', 'reflection', 'smooth', 'glossy', 'featureless', 'sign', 'wheels', 'methods', 'propulsion', 'slide', 'along', 'sheer', 'willpower', 'sensation', 'breastbone', 'caused', 'sonar based', 'employing', 'judging', 'degree', 'fish', 'files', 'greatly', 'augmented', 'access', 'easily', 'terms', 'denoted', 'n svw tre a', 'interface', 'serve', 'converted', 'sounded', 'wavery', 'cockatoo', 'screech', 'rose', 'volume', 'natural', 'frequency', 'hearing', 'jingling', 'crashing', 'incapable', 'sarcasm', 'carriage', 'return', 'feed', 'lessons', 'worthy', 'customers', 'steal', 'appears', 'continue', 'beaten', 'asshole', 'pulling', 'pair', 'pants', 'kneeling', 'arms', 'thrust', 'forehead', 'touching', 'instinct', 'recording', 'employer', 'graphic', 'poorly', 'wavered', 'trouble', 'distinguishing', 'finally', 'edged', 'club like', 'flipper', 'hitting', 'knocking', 'watched', 'restraining', 'clearly', 'showed', 'blood', 'scratch', 'stopping', 'finding', 'cutting', 'insult', 'relation table', 'delivered', 'solid', 'kick', 'xeno s', 'pushing', 'cluster', 'hat stands', 'stalled', 'motor vehicle', 'regain', 'composure', 'armoured', 'tank', 'surged', 'worse', 'thumbed', 'send', 'tracks', 'background', 'quieten', 'waver', 'hesitantly', 'hissed', 'confirm', 'grimly', 'typed', 'sent', 'must', 'highly', 'emotional', 'carried', 'sound wave', 'supersonic', 'transactions', 'offer', 'minimum', 'amount', 'allow', 'tax', 'levied', 'popped', 'sphere', 'bubble pack', 'trundled', 'intensify', 'ache', 'looped', 'stools', 'mounted', 'millimillenarian', 'equivalent', 'broom', 'cupboard', 'crouched', 'inside', 'recycled', 'paper cloth', 'kill', 'pieces', 'children', 'knelt', 'putting', 'bought', 'whole', 'enterprise', 'doubt', 'buy', 'sub section', 'treatment', 'equipment', 'told', 'interspecies', 'advisory', 'group', 'i d', 'deported', 'risk', 'classification', 'erase', 'sold', 'unless', 'owner', 'associates', 'll', 'thing', 'master', 'mercenary', 'pthalklin', 'ervae', 'pay', 'torch', 'minds', 'factors', 'moved', 'telephone', 'contact', 'angular', 'script', 'waited', 'tapping', 'impatiently', 'console', 'letters', 'screen', 'approx', 'experienced', 'technological', 'rumors unconfirmed', 'reports', 'appear', 'interdict', 'devastation', 'scale', 'incredulous', 'propaganda', 'stop', 'wonder', 'managed', 'stay', 'inherently', 'stable', 'forms', 'cleared', 'unstable', 'founded', 'greed', 'blind', 'self importance', 'brought', 'quizzical', 'listening', 'really', 'inflammatory', 'otherwise', 'pinged', 'flashed', 'ex master', 'hiring', 'hole', 'messages', 'careful', 'addressed', 'flawless', 'bizarre', 'psychedelic', 'oscillating', 'flashing', 'glowing', 'colours', 'twisted', 'toroids', 'intertwined', 'mid air', 'keery', 'nur wah', 'whatever it was', 'chattered', 'hollow sounding', 'oddly modulated', 'fast', 'pulsed', 'blue green', 'thumb', 'bent', 'orange', 'piercing', 'colour', 'disappeared', 'moments', 'fiddling', 'playback', 'kireedeonibalikathadamiax', 'answer', 'nudged', 'repeated', 'question', 'yeah', 'rummaging', 'boxes', 'dragged', 'tease', 'yellow glass', 'clear', 'brown', 'fluid', 'cap', 'swig', 'grimacing', 'taste', 'official', 'medium', 'civilised', 'consider', 'platform cash', 'register', 'cash', 'tray', 'sheet carbon', 'tci', 'an', 'total', 'conversion', 'easy to fuse', 'format', 'generally', 'energy based', 'comes', 'currency', 'trying', 'information based', 'examining', 'locked', 'idea', 'economy', 'barter', 'anymore', 'revealing', 'silver', 'button', 'work credit', 'meter', 'replacing', 'till', 'force', 'largest', 'bill', 'power', 'grinned', 'solar', 'planets', 'priced', 'twenty', 'compare', 'recent', 'estimate', 'worth', 'settling', 'approximation', 'richer', 'n frf bla g', 'good', 'continually', 'exploring', 'city', 'completed', 'mission', 'indenture', 'sixteen', 'bewildered', 'smoothly', 'back tracked', 'coming', 'progress', 'street', 'cafe', 'move', 'ordered', 'iced', 'tea', 'seff', 'menu', 'indexing', 'binary', 'tree', 'ways', 'requiring', 'severe', 'modifications', 'brain', 'tracing', 'onboard', 'crash', 'tweaking', 'rounded', 'stilt like', 'kangaroo', 'domed', 'evenly', 'lipless', 'grinning', 'neck', 'undefined', 'haircut', 'barber', 'bowing', 'smirking', 'earnestly', 'help', 'fine tune', 'slinking', 'excitedly', 'dragging', 'cafeteria', 'dome headed', 'office space', 'road', 'massive', 'explosion', 'rocked', 'debris', 'clattering', 'sheet plastic', 'brief', 'wierd', 'cacophony', 'moans', 'hoots', 'soon', 'buzz', 'tinkling', 'bell like', 'sirens', 'signalled', 'arrival', 'bythian', 'militia', 'swarming', 'site', 'insects', 'attacked', 'striding', 'improbably', 'tucking', 'satchel', 'glancing', 'desk screening', 'area', 'datapost', 'enquiries', 'tugging', 'translate', 'surprisingly', 'appointment', 'ambassador', 'aouwwrr lrr interface to the enemy', 'reschedule', 'course', 'notified', 'meeting', 'evidence', 'pride', 'tendeysharh', 'shared', 'aouwwrr lrr', 'interface to the enemy', 'mate', 'impropriety', 'frowned', 'whatever', 'deliberately', 'slept', 'the', 'protracted', 'yowl', 'simultaneously', 'assuming', 'shorter', 'height', 'markings', 'furrier', 'elaborate', 'necklace', 'proved', 'exomanipulator', 'second', 'mechanical', 'poor', 'substitutes', 'opposable', 'thumbs', 'gesture', 'largely', 'symbolic', 'nonetheless', 'important', 'performed', 'follow', 'one time', 'of', 'mrrr lrr', 'mewed', 'flattening', 'forth', 'bid', 'out priced', 'slits', 'attack', 'paid', 'burned', 'happened', 'lines', 'attempt', 'shook', 'hire', 'ninety year', 'contracts', 'bribe', 'learn', 'assent', 'meanwhile', 'instruct', 'conference', 'inside out', 'dim', 'bioluminescent', 'strips', 'embedded', 'ceiling', 'resting', 'paws', 'calm', 'intent', 'tinged', 'trills', 'primate', 'psychology', 'confess', 'feel', 'requires', 'justification', 'superiors', 'why', 'sit', 'bole', 'accepting', 'unusual', 'questioning', 'difficult', 'decisions', 'usually', 'faces', 'complex', 'person', 'facet', 'manages', 'task', 'entity', 'doubts', 'recalled', 'conversations', 'topics', 'delineated', 'avoided', 'discussed', 'dedicated', 'enemy', 'frame', 'heavy', 'thump', 'land', 'awkwardly', 'listen', 'san no os', 'occasion', 'discussing', 'sexual', 'mores', 'resolved', 'investigate', 'highness', 'kew', 'pray', 'sir', 'whose', 'alexander', 'pope', '1730', 'busily', 'applying', 'skills', 'picked', 'childhood', 'ruled', 'innately', 'bureaucratic', 'dealing', 'favors', 'opening', 'forward', 'proposal', 'lower level', 'manipulated', 'reply', 'spelled', 'owes', 'entering', 'condition', 'innovation', 'minimised', 'assured', 'chance', 'introducing', 'wishes', 'known', 'proud', 'capabilities', 'seeking', 'becoming', 'society', 'uses', 'basis', 'typically', 'subtle', 'perception', 'perceives', 'topic', 'described', 'enrich', 'uncharacteristic', 'bluntness', 'bureaucrat', 'ones', 'responsible', 'hunched', 'matters', 'favourite', 'faster', 'willing', 'exercise', 'reappeared', 'bobbing', 'attending', 'reveal', 'shortly', 'referred', 'upwards', 'believes', 'delicate', 'compromised', 'deposit', 'famous', 'bank', 'account', 'officially', 'registered', 'marissey', 'widely', 'temporary', 'bribes', 'ducked', 'nervously', 'squeezing', 'data handset', 'haste', 'communicated', 'effectively', 'resort', 'wholly', 'donated', 'thirteenth', 'incident', 'originated', 'likely', 'hired', 'speak', 'vestigal', 'sardonic', 'chuckle', 'ammunition', 'belts', 'hatchet shaped', 'suspicion', 'lied', 'skillfully', 'lifetime companion', 'injured', 'events', 'occur', 'controlled', 'shortwave', 'terminal', 'searched', 'terrorist', 'apprehended', 'picture', 'wish', 'apply', 'reparation', 'benefit', 'thank you', 'injury', 'minimal', 'asking', 'merited', 'warranted', 'interference', 'expensive', 'probe', 'politically', 'unsafe', 'bribeable', 'aoouw', 'aooouw', 'excellent', 'act', 'intended', 'availability', 'longer', 'dangling', 'far', 'consummation', 'amused', 'jealous', 'males', 'detail', 'male', 'generative', 'complicate', 'structured', 'skirt', 'examined', 'prodding', 'cautiously', 'foresee', 'major', 'problems', 'experience', 'feelings', 'inadequacy', 'chatting', 'underground', 'networks', 'simulators', 'borderline illegal', 'allegedly', 'pr rtr', 'talks', 'toying', 'replicate lizard', 'eat', 'faced', 'addressing', 'simulator', 'observe', 'identify', 'holograph', 'animated', 'spheres', 'affirmative', 'real', 'lizard', 'dangled', 'wriggling', 'genetically engineered', 'plant', 'built in', 'reflexes', 'behave', 'savages', 'cube', 'pyramids', 'rejoined', 'reentered', 'restored', 'bombing', 'sentry', 'hiding', 'remains', 'truncated', 'pillar', 'conversation', 'using', 'interferometric', 'laser scope', 'withdrew', 'ovoid', 'dial', 'exposing', 'rows', 'tongue', 'rat', 'flickered', 'ear piercing', 'furry', 'pounced', 'kicking', 'grenade', 'slashed', 'juncture', 'exposed', 'furrows', 'spewing', 'milky looking', 'madly', 'scrabbling', 'shuddering', 'died', 'subsystems', 'associative', 'subsystem', 'individually', 'decimal', 'six figure', 'built', 'project', 'downscale', 'original', 'guidance', 'ai', 'manageable', 'sub units', 'minor', 'projects', 'delegated', 'originally', 'units', 'constructed', 'inception', 'rationale', 'quickly', 'invented', 'worlds', 'dominion', 'lots', 'matted', 'grass', 'cocked', 'remembering', 'rhythmic', 'hissing', 'laughter', 'indignant', 'funny', 'falling', 'sibilant', 'mews', 'perfect', 'attractive', 'hisses', 'suppose', 'lost', 'grip', 'conference room', 'nimbly', 'spoiling', 'illusion', 'agility', 'rolling', 'uncontrollably', 'recovered', 'twitching', 'outspread', 'length', 'serious', 'lately', 'infiltration', 'beg', 'pardon', 'levelling', 'cool', 'monitor', 'devious', 'second class', 'citizens', 'promised', 'suffragette', 'chosen', 'permission', 'partisan', 'listened', 'growing', 'unreality', 'universally', 'dreaded', 'hint', 'blow', 'frantic', 'destroy', 'rumored', 'twenty three', 'existence', 'aware', 'anxiously', 'extraordinary', 'rubbed', 'reassuringly', 'relaxed', 'true', 'hidden', 'hide', 'helpful', 'cause', 'authorise', 'drop', 'asteroid', 'pr rtr s', 'seeming', 'brilliant', 'aqua', 'reproduced', 'present', 'stronger', 'actually', 'dreaming', 'unexpectedly', 'spiral', 'basement', 'damper', 'swallowed', 'stranger', 'aliens', 'rumors', 'bloodthirsty', 'maniacal', 'killers', 'untrue', 'literally', 'tells', 'slitted', 'rippled', 'developed', 'grooves', 'spread', 'erasing', 'darkness', 'translator eyepiece', 'infra red', 'outlined', 'darkened', 'murmuring', 'discussion', 'susurration', 'perfectly accented', 'tsiry feylen kendr tariy', 'gloom', 'following', 'horse', 'diminished', 'occasional', 'hiss', 'glottal', 'peculiar', 'scraping', 'underlying', 'crouching', 'flexed', 'increased', 'bumping', 'tsiry feylen', 'centaur', 'double jointed', 'slick', 'scales', 'glittered', 'attitude', 'placing', 'hooves', 'ankles', 'hinted', 'ancestor', 'radial', 'symmetry', 'fascinated', 'theory', 'stated', 'intelligent', 'galaxy', 'distinguished', 'distinct', 'waves', 'wave', 'utterly', 'unlike', 'vertical', 'diagonally slitted', 'briefly', 'needle like', 'suppressing', 'urge', 'run', 'enquired', 'politely', 'bared', 'fangs', 'bobbed', 'panic', 'former', 'is', 'folding', 'neatly', 'personalities', 'practice', 'declined', 'tsiry', 'aspect', 'immediate', 'superior', 'teleconferencing', 'popular', 'officials', 'sometimes', 'names', 'cosmetic', 'graphics', 'program', 'rarely', 'fancy', 'image wise', 'partisanship', 'appropriate', 'cross legged', 'kinesics', 'pick', 'initial', 'evaluation', 'study', 'copy', 'preliminary', 'recommendation', 'month', 'dozen', 'asteroids', 'regular', 'intervals', 'coincide', 'arrest', 'subsequent', 'anywhere', 'reaction', 'extreme', 'discovered', 'digested', 'expect', 'choice', 'twenty seven', 'grasped', 'proof', 'tangible', 'card', 'clouded', 'handed', 'faked', 'best', 'convince', 'preparing', 'projectiles', 'seeing', 'scanner', 'date', '9327685491767632151', 'interdepartmental', 'action', '1110011001010001001001001001001001011110101001', 'departments', 'indicates', 'potential', '97 8', 'percent', 'innate', 'habits', 'research', 'currently', 'commence', 'pending', 'directed', 'sthelanar', 't760', 'cost', '568384', 'report', 'glances', 'barber xeno', 'strays', 'warn', 'everyone', 'destroyed', 'inhabitants', 'mounting', 'lack', 'spacecraft', 'fail', 'attacks', 'gets', 'swivelled', 'financing', 'operation', 'bases', 'responsibility', 'remain', 'saving', 'assist', 'war', 'born', 'discovery', 'numbing', 'chill', 'settle', 'scope', 'tsiry feylen s', 'revelation', 'sank', 'possibility', 'creating', 'art', 'evincing', 'humour', 'sub commander', 'charge', 'assault', 'moridani held', 'triple s', 'bomb pattern', 'ugly', 'phandric', 'white metal', 'shapes', 'crowded', 'crowds', 'parted', 'breaking', 'larger', 'prow', 'icebreaker', 'flowed', 'rift', 'healing', 'elephant', 'stumpy', 'narrow', 'trapezoid', 'folded', 'deftly', 'occasionally', 'whirling', 'utilising', 'sequence', 'steps', 'tow', 'obviously', 'bilaterally', 'symmetrical', 'forepeak', 'squat', 'unsure', 'method', 'walking', 'foot', 'every', 'wrong', 'damn', 'fighting', 'force feedback', 'notches', 'altogether', 'tired', 'hunted', 'land mate', 'battle', 'suit', 'we', 'stand', 'getting', 'wear', 'suits', 'wailed', 'become', 'new vinyl', 'leg spaces', 'rubbing', 'painfully', 'insides', 'thighs', 'bow legged', 'divested', 'safely', 'we myself', 'exposure', 'team', 'lobbed', 'comfortable', 'weeks', 'stretch', 'we yourself', 'couple', 'cans', 'six pack', 'muttered', 'standards', 'uh oh', 'passing', 'checking', 'bracelets', 'able', 'remove', 'hung', 'armour', 'carelessly', 'tag', 'marginally', 'posing', 'snatched', 'angled', 'shoulder boom mounted', 'cameras', 'disguises', 'authority', 'hoping', 'disguise', 'encountered', 'pesky', 'prepared', 'fight', 'necessary', 'combat', 'watch', 'participate', 'lagging', 'shoot out', 'duck', 'reproaching', 'tsk tsk', 'operative', 'gun nut', 'expert', 'energy', 'applies', 'leg movements', 'feedback', 'leap', 'third storey', 'balcony', 'jump', 'roof', 'appealed', 'intersection', 'pass', 'experimenting', 'response time', 'fine tuning', 'anticipating', 'tuned', 'slip', 'skin', 'energetic', 'euphoria', 'gymnastic', 'routine', 'x4', 'toes', 'jumping', 'splay toed', 'bending', 'automatically', 'yahooo', 'x8', 'leaping', 'performing', 'somersault', 'barely', 'accommodate', 'remote', 'draw', 'poked', 'camera boom', 'corner', 'scanned', 'courtyard', 'booms', 'respectively', 'arranged', 'untrained', 'guard', 'anticipated', 'reception', 'fascist', 'friends', 'signal', 'straight', 'movement', 'decorative', 'shrubbery', 'doorways', 'bushes', 'was', 'plants', 'agapanths', 'topped', 'pineapple', 'platforms', 'hovered', 'ambulatory', 'shrubs', 'compressed', 'broadly spread', 'holes', 'blown', 'yellow', 'sprayed', 'remaining', 'microwave', 'causing', 'burst', 'flame', 'chipped', 'clattered', 'dared', 'boom camera', 'nudging', 'bodies', 'gestured', 'dodged', 'pausing', 'confer', 'surviving', 'everything', 'seated', 'dataposts', 'blankly', 'barrier', 'laterally', 'strike', 'invisible', 'stumped', 'twanged', 'wires', 'strung', 'monofilament', 'lucky', 'slices', 'walked', 'kicked', 'flew', 'face to face', 'raising', 'weapon', 'back handing', 'terrible', 'killing', 'instantly', 'gun', 'automatic', 'rifle', 'rectangular', 'magazine', 'jammed', 'trigger', 'bashed', 'starship', 'snapping', 'barrel', 'shoulder mounted', 'reach', 'tip toed', 'peeking', 'progressed', 'hum', 'right hand', 'afterwards', 'left hand', 'battle suit', 'batting', 'measured', 'ferocity', 'stamped', 'extracted', 'dented', 'heads', 'squelching', 'boom', 'camera', 'crushed', 'machinery', 'tearing', 'cables', 'control spaces', 'levelled', 'severing', 'axe shaped', 'internal', 'gyros', 'balance', 'darted', 'hatches', 'thinned', 'vanishing', 'secured', 'feylen', 'dead', 'landed', 'allocated', 'searching', 'refill', 'supply', 'stores', 'half lit', 'stalked', 'service hatches', 'thrusting', 'camera booms', 'circular', 'berths', 'leaning', 'underside', 'golden', 'gridwork', 'visible', 'altitude', 'radios', 'pulled', 'black glass', 'hatchway', 'stiffness', 'vacuum', 'pilot', 'ward room', 'adequate', 'gratefully', 'battle suits', 'ohhh', 'praise', 'bob', 'stretching', 'straightened', 'arched', 'confined', 'periods', 'half way', 'dangerous', 'ahead', 'recorder', 'communications', 'channels', 'knowledge base', 'describing', 'features', 'familiarise', 'spy', 'top', 'shipping', 'container', 'kayren kayley', 'broken', 'bags', 'soil', 'living', 'host', 'thousands', 'communion', 'communicating', 'via', 'chemical', 'tags', 'acted', 'genetically programmed', 'motions', 'forming', 'intricate', 'object oriented', 'conducted', 'spectrographic', 'interpreter', 'hampered', 'slow', 'reaction times', 'handicap', 'support', 'mercenaries', 'transmitted', 'rendered', 'pheromones', 'spraying', 'teemed', 'diagonal', 'interstices', 'pineapple shaped', 'airborne', 'dancing', 'plate', 'next to smallest', 'components', 'computers', 'instructed', 'operate', 'great', 'speed', 'sets', 'react', 'situations', 'cycle', 'modifying', 'delays', 'requisite', 'sense organs', 'typical', 'crawled', 'platform', 'knobbed', 'roots', 'connecting', '71', 'server', 'telfi arifel eygow fila bythe', 'permitted', 'history file', 'welcome', 'bythenet', 'relay', 'network', '997193', 'telfi arifel', 'version', '9 2 7a kr', 'u0 severe arifel usr napaisub 997193 brcrc', 'directory', '22113', 'users', '9171', 'servers', '74', 'zone', 'motd', 'results', 'di line', 'afterscan', 'competition', 'conditions', 'reevaluated', 'restarted', 'nine', 'command', 'gblf', 'bode', 'nargers', 'qux', 'foo', 'wind', 'blows', '28', 'talk', 'prv', 'subconf', 'crossdress', '04 04 91 72 991', 'joined', '661528', 'dear', 'bums', 'goes', 'latest', 'spot', 'snicker', 'plug', 'swine', 'glad', 'wiped', 'predictably', 'season', 'you', 'o o', 'up on high', 'losses', 'trash', 'gulp', 'crikey', 'unbroken', 'assigned', 'sweep', 'catch', 'debate', 'paleolithic', 'missed', 'subset', 'devoted', 'locating', 'serial time', 'slash and burn', 'concurrence', 'shift', 'physical space', 'probable space', 'padded', 'mats', 'lying', 'unsuccessful', 'love', 'hesitated', 'appearing', 'faintly', 'effective', 'gravitic', 'beacon', 'spoken', 'assistance', 'killed', 'hide bound', 'mystery', 'docilely', 'kayren', 'musings', 'handled', 'locally', 'admitting', 'deactivating', 'screens', 'muting', 'announce', 'plans', 'calling', 'ranked', 'banks', 'columns', 'manner', 'reminiscent', 'amusement', 'sister', 'changed', 'kissing', 'statistics', 'govern', 'movements', 'walk', 'airlock', 'knowing', 'allotted', 'matting', 'baring', 'needle', 'trusted', 'happen', 'invite', 'cracked', 'halves', 'hotdog', 'bun', 'blinking', 'watery', 'pairs', 'objection', 'mail', 'tap', 'secure', 'monitors', 'manage', 'frightening', 'dental', 'machine', 'monitoring', 'organisational', 'diligence', 'collapsed', 'rescue', 'fingered', 'apology', 'limit', 'spun', 'answering', 'worriedly', 'sleeping berths', 'battle armour', 'shouting', 'company', 'disentangled', 'clam', 'shells', 'count', 'scouts', 'scout', 'approaching', 'crew', 'informing', 'dock', 'fore', 'hammering', 'lock bolts', 'lure', 'hope', 'decompression', 'stuffing', 'handful', 'fragments', 'minute', 'creaked', 'unfamiliar', 'stress', 'braced', 'tip', 'boom mounted', 'patching', 'leapt', 'tank shape', 'whipped', 'guns', 'late', 'strength', 'impart', 'bythian s', 'necks', 'embedding', 'explosives', 'packed', 'crack', 'shock wave', 'stanchion', 'reversed', 'crackling', 'cover', 'enlarged', 'scream', 'escaping', 'hatch field', 'external', 'relayed', 'images', 'torn', 'globe', 'figure', 'fourth', 'among', 'trailing', 'lagrange', 'mars', 'rock', 'longest', 'axis', 'indistinguishable', 'orbital', 'rubbish', 'inert', 'distinguish', 'sedentary', 'companions', 'rotating', 'forty', 'aiming', 'million', 'miles', 'plane', 'ecliptic', 'mass sensors', 'triangulated', 'satisfied', 'prefer', 'capable', 'intelligences', 'spy satellites', 'correctly', 'threats', 'general', 'half hearted', 'scan', 'sizable', 'objects', 'seventy', 'tonnes', 'up to date', 'coded', 'recently', 'link', 'earth bound', 'arouse', 'recipient', 'shot', 'loosing', 'stone', 'chips', 'velocity', 'battering', 'spy satellite', 'inactivity', 'starfield', 'illustrations', 'commented', 'assure', 'ratio', 'rocks', 'magnitudes', 'physical', 'reality', 'mostly', 'particular', 'stars', 'aligned', 'drove', 'monitored', 'comms', 'exchanges', 'rapid', 'switching', 'inhuman', 'appreciably', 'chattering', 'stuck', 'hang', 'lurched', 'spilling', 'unobtrusively', 'pot plant', 'swayed', 'upright', 'rock textured', 'highlights', 'adjustments', 'spin', 'split', 'segments', 'flower', 'petals', 'now familiar', 'struggling', 'resumed', 'kendr saranaxio parndta athanasius', 'dealt', 'bluff', 'projectile', '607', 'armed', 'human built', 'xenotechnology', 'quarters', 'damaged', 'recovery', 'charges', 'new', 'impact', 'can', '19 5', 'km sec', 'path', '2 85', 'sixth', '40', '35', '45', 'seconds', 'confirmed', 'trajectory', 'assign', 'tracking', 'slack', 'kendr saranaxio', 'efficient', 'grace', 'video simulator', 'puppet master', 'transmitting', 'convincing', 'portrayal', 'mimicking', 'phrases', 'rapid fire', 'bursts', 'fs yen', 'smiles', 'summoned', 'docking', 'accord', 'fireworks', 'annoying', 'off shoots', 'plastics', 'industry', 'sources', 'manufacture', 'foundries', 'suns', 'stored', 'semi stable', 'carbon', 'lattice', 'power conversion', 'percentage', 'nosanoos', 'huddled', 'adjacent', 'kendr', 'saranaxio', 'counting', 'ease', 'overcome', 'nine hour', 'epic', 'relates', 'inhospitable', 'warriors', 'throughout', 'conquered', 'deteriorated', 'opposition', 'agreed', 'bunch', 'dissidents', 'subversivenet', 'blowing', 'pinging', 'indicated', 'reputation', 'well founded', 'expansion', 'ferocious', 'technique', 'steer', 'scout ship', 'loaded', 'shuttles', 'partly', 'attribute', 'decline', 'suitable', 'maturity', 'created', 'racial', 'identity', 'powerful', 'brace', 'distant', 'thumping', 'echoes', 'layer', 'gases', 'result', 'so', 'unsecured', 'containers', 'ghostly', 'unclamped', 'steered', 'star field', 'dizzying', 'fashion', 'exceeding', 'garage', 'arrow', 'marking', 'future', 'rugs', 'woven', 'shades', 'failing', 'encompass', 'genocide', 'eye piece', 'replies', 'mail messages', 'kel', 'crazy', 'week', 'withdrawn', 'canceled', 'hitching', 'ride', 'baralascopae', 'ultralight', 'enthusiast', 'kinds', 'wild', 'flying', 'machine virus', 'persistent', 'giant', 'satellite', 'observatories', 'fondly', 'gaeren', 'gen', 'mileva', 'pretend', 'cynically', 'save', 'civilisations', 'submit', 'apathy', 'hoped', 'warrior', 'prostitute', 'pretending', 'specialist', 'job', 'attacking', 'specialists', 'exist', 'proscribed', 'capability', 'checked', 'qualities', 'sneered', 'ability', 'deliver', 'essential', 'include', 'adaptability', 'quick', 'willingness', 'impossible', 'attempted', 'off world', 'definite', 'ideas', 'broaden', 'horizons', 'military', 'conceive', 'battles', 'fought', 'fear', 'connected', 'augmentation', 'man machine', 'interfaces', 'recall', 'disassembling', 'nuclear', 'laid', 'guidelines', 'acceptable', 'reinforced', 'prohibited', 'genetic', 'engineering', 'virtual', 'modification', 'unmodified', 'undermine', 'added', 'inspired', 'freighter', 'hijacked', 'rehearsed', 'tentatively', 'enter', 'streaks', 'static', 'adjusting', 'receiver', 'discovering', 'altered', 'pre set', 'contingent', 'global', 'unlock', 'nano gravitic', 'band', 'changing', 'innermost', 'notice', 'glide', 'saturated', 'encoded', 'transmissions', 'upper', 'receive', 'synthesised', 'sixty one', 'calculations', 'countdown', 'thirty four', 'floated', 'darting', 'leaf platforms', 'kayren s', 'pheromonal', 'instructions', 'untuned', 'videoscreen', 'two dimensional', 'video eyepatch', 'announcement', 'discontinued', 'breach', 'laws', 'primary', 'explained', 'drifting', 'alongside', 'floating', 'blasted', 'tethered', 'cable', 'primarily', 'deceiving', 'imminent', 'destruction', 'rule', 'convinced', 'mankind', 'futility', 'tactful', 'phones', 'nervous', 'tugged', 'tether', 'bouncing', 'deck', 'vents', 'walls', 'activating', 'snapped', 'shuffled', 'journey', 'knocked', 'unbuckling', 'securing', 'straps', 'lifting', 'leads', 'peeled', 'contacts', 'attached', 'sudden', 'desperation', 'tears', 'beginning', 'leak', 'beneath', 'tightly closed', 'eyelids', 'keys', 'play', 'ambient', 'ocean', 'whale', 'bass', 'strip', 'breasts', 'biting', 'lip', 'effort', 'despair', 'zipped', 'entwined', 'scenting', 'wiggled', 'spaces', 'flight column', 'swung', 'overtook', 'swaying', 'rhinoceros sized', 'shaking', 'three quarters', 'divert', 'stolen', 'freighters', 'arriving', 'parts', 'intend', 'lift', 'retaliate', 'stockpiling', 'missiles', 'history', 'stockpile', 'tersely', 'yl', 'chuev', 'chto', 'ty', 'valyf', 'li', 'svayen', 'mistake', 'embarrassed', 'adventure', 'sardonically', 'gun running', 'proportion', 'withdrawing', 'antennae signal', 'vertically run', 'views', 'lurking', 'launched', 'accelerating', 'furiously', 'star', 'swelling', 'drives', 'warheads', 'missile', 'provided', 'prototype', 'chat', 'relieved', 'avert', 'holocaust', 'good bye', 'appreciate', 'joke', 'temples', 'extend', 'index', 'withdraw', 'significant', 'delay', 'interpreted', 'scrap', 'paper', 'blew', 'gaping', 'hangar', 'fluttered', 'swept', 'balloon', 'extruded', 'raid', 'earth moving', 'gear', 'cubicles', 'desks', 'piled', 'conspicuously', 'crate', 'labels', 'slapping', 'fascination', 'diameter', 'aligning', 'thunder', 'sonic', 'impossibly', 'right angle', 'speck', 'magnification', 'craft', 'bus', 'painted', 'camouflage', 'hazy', 'circles', 'wavering', 'loading', 'slapped', 'telemetry', 'antique', 'helicopter', 'transceivers', 'wrinkling', 'smells', 'dipping', 'unevenly', 'rotor', 'meters', 'chassis', 'crumpling', 'copter', 'rotors', 'chopping', 'directions', 'animal', 'throes', 'haemotoxic', 'poison', 'haltingly', 'freezing', 'roughly', 'egg shaped', 'nickel iron', 'thirty two', 'longitudinal', 'end over end', 'twenty one', 'navigator', 'radar', 'expecting', 'blips', 'fifteen', 'waste', 'launching', 'volley', 'football', 'target', 'disintegrate', 'scattered', 'smoothness', 'driven', 'impeller', 'engines', 'specify', 'nature', 'blip', 'considered', 'lobbing', 'pinpoint', 'flare', 'vaporised', 'throwing', 'useless', 'launch', 'hail', 'asteroid fragments', 'riddled', 'survive', 'fourteen', 'detonate', 'targets', 'dumps', 'roads', 'factories', 'bridges', 'trains', 'houses', 'forests', 'vehicles', 'suspicious', 'handelsman', 'talking', 'nightmare', 'disgust', 'sentimental', 'accounted', 'disaster', 'diversion missiles', 'projection', 'regards', 'four dimensional', 'data structure', 'nurse maiding', 'chances', 'survivors', 'agree', 'arrange', 'eleven', 'beckett', 'co existing', 'peacefully', 'fielding', 'assisted', 'odd', 'comment', 'thrown', 'herding', 'tuuri', 'neuter', 'chaos', 'withdrawal', 'produced', 'mob', 'school', 'murders', 'occurred', 'realise', 'veneer', 'civilisation', 'genesis', 'anarchartist', 'absurdist', 'organisation', 'collected', 'bythian hired', 'assassin', 'squads', 'barker', 'ex av', 'thief', 'street gang', 'leader', 'liking', 'low level', 'resisted', 'impulse', 'successful', 'estimates', 'successfully', 'diverted', 'approximately', 'atmosphere', 'survived', 'push', 'scaring', 'broadly', 'producing', 'compared', 'knives', 'baylal delvoy kendr teff', 'transports', 'bythe', 'prime', 'hello', 'targeting', 'luck', 'fit', 'clenching', 'unclenching', 'hand weapons', 'museum', 'twinkling', 'aimed', 'magnified', 'downwards', 'voice activated', 'microphone', 'object', 'east', 'stumbled', 'choppiness', 'microphones', 'annoyingly', 'filter', 'diversion', 'residential', 'ing', 'halted', 'headlong', 'rush', 'lie', 'spread eagled', 'locking', 'sides', 'jarring', 'buffeted', 'standing', 'ended', 'leaf', 'bonfire', 'passage', 'clustered', 'directing', 'dwindling', 'component', 'inform', 'worried', 'moridani s', 'sorted', 'turbulent', 'cloud', 'widened', 'courses', 'angry', 'curving', 'track', 'nearer', 'intense', 'rendering', 'stark', 'shadows', 'chunks', 'companion', 'collided', 'tracked', 'heavily', 'obscured', 'dust', 'despairingly', 'flicking', 'secondary', 'vayasch', 'cheyr', 'hate', 'repeat', 'identif', 'receiving', 'checksum', 'a3e453c36c', 'on line', 'test', 'fairly', 'self explanatory', 'ito', 'h9', 'cpu', 'patch', 'multitude', 'smart', 'expertly', 'multi screen', 'incomprehensible', 'streaked', 'dot patterns', 'whenever', 'interesting', 'sending', 'clenched', 'grips', 'hand manipulator', 'fragmentary', 'carnage', 'unable', 'ploughing', 'heavily populated', 'centres', 'atomic', 'treat', 'documentary', 'special effect', 'eighth', 'ninth', 'demolished', 'slammed', 'reassuring', 'motionless', 'rate', 'happening', 'whether', 'interrupt', 'sharply', 'succeeded', 'gravely', 'underestimated', 'importance', 'extermination', 'planned', 'privately', 'perform', 'stage', 'closely', 'anguish', 'experiencing', 'semi nauseous', 'anger', 'grief', 'game', 'existed', 'hunting', 'personally', 'befriend', 'shutting', 'back handed', 'undid', 'bringing', 'stain', 'fingernails', 'presented', 'conveyed', 'icy', 'relentless', 'resolve', 'obsession', 'copyright', 'nikolai', 'kingsley', '1995', 'unlimited', 'reproduction', 'hard copy', 'per', 'user', 'non profit', 'intact', 'eris', 'fnord', 'discordia', '93', 'oops', 'banana']}\n",
            "{1: 'tearglas.txt', 2: 'bureau.txt'}\n"
          ]
        }
      ],
      "source": [
        "# import data files\n",
        "# takes the names of the files in the folder and creates a list\n",
        "file_names = os.listdir(\"./data\")\n",
        "# file_names\n",
        "\n",
        "# file id (key)\n",
        "counter = 1\n",
        "\n",
        "#dictionary1 - translates the ID which belong to the file\n",
        "dict_words = {}\n",
        "# dictionaty2 - file dictionary (id to file name)\n",
        "dict_files = {}\n",
        "\n",
        "# goes through each file in the list of file names\n",
        "for i in file_names:\n",
        "\n",
        "    if counter <= 2:\n",
        "      # gets the working directory (this may be different for everyone)\n",
        "      file_path = os.getcwd() + \"/data/\" + i\n",
        "      # opens the file in reading mode\n",
        "      file = open(file_path, \"r\", encoding=\"utf-8\", errors = \"ignore\" ) # added the encoding and errors as some files had different encoding detectors (note: with new line can add new param --> newline = '/r/n'))\n",
        "      # calls the function written for question 1 of the assignment\n",
        "      words = text_preprocessing(file)\n",
        "\n",
        "      # updates the dictionaries\n",
        "      dict_words[counter] = words # list of words in this file\n",
        "      dict_files[counter] = i # list of all the file names\n",
        "\n",
        "    # increment the counter\n",
        "    counter+=1\n",
        "\n",
        "    # closes the file\n",
        "    file.close()\n",
        "\n",
        "print(dict_words)\n",
        "print(dict_files)"
      ]
    },
    {
      "cell_type": "markdown",
      "metadata": {
        "id": "auQGFmd1qYUR"
      },
      "source": [
        "## Question 2 : Inverted Index Implementation\n",
        "Implement an inverted index data structure for the preprocessed dataset\n"
      ]
    },
    {
      "cell_type": "code",
      "execution_count": 5,
      "metadata": {
        "id": "lSBJFo1eqYUS"
      },
      "outputs": [],
      "source": [
        "# hash table\n",
        "\n",
        "class postingList:\n",
        "\n",
        "  #posting lists = linked lists\n",
        "  def __init__(self, word, doc):\n",
        "    self.word = word\n",
        "    self.doc = doc\n",
        "    self.next = None\n",
        "\n",
        "class HashInvertedIndex:\n",
        "  def __init__(self, capacity):\n",
        "    self.capacity = capacity\n",
        "    self.table = {}\n",
        "    self.count = 0\n",
        "\n",
        "  def _find_index(self, word):\n",
        "    index = hash(word) % self.capacity\n",
        "    return index\n",
        "\n",
        "  def insert(self, doc):\n",
        "    for item in dict_words:\n",
        "      i = self._find_index(item)\n",
        "\n",
        "      if doc not in self.table[i]:\n",
        "        self.table[i].append(doc)\n",
        "        self.count += 1\n",
        "\n",
        "    print(self.table)\n",
        "\n"
      ]
    },
    {
      "cell_type": "code",
      "source": [
        "test = HashInvertedIndex()\n"
      ],
      "metadata": {
        "id": "KoVxduRbbCLQ"
      },
      "execution_count": null,
      "outputs": []
    },
    {
      "cell_type": "markdown",
      "metadata": {
        "id": "dOKDGJKrqYUS"
      },
      "source": [
        "## Question 3: Query Support\n",
        "Support the following queries, where x and y would be taken as input from the user\n",
        "\n",
        "1. x OR y\n",
        "\n",
        "2. x AND y\n",
        "\n",
        "3. x AND NOT y\n",
        "\n",
        "4. x OR NOT y\n"
      ]
    },
    {
      "cell_type": "code",
      "execution_count": null,
      "metadata": {
        "id": "4fxrPEx1qYUS"
      },
      "outputs": [],
      "source": []
    },
    {
      "cell_type": "markdown",
      "metadata": {
        "id": "CrJoDGwgqYUS"
      },
      "source": [
        "## Question 4: System Evaluation\n",
        "Evaluate your system against the set of provided queries.\n",
        "\n",
        "1. Query #1\n",
        "\n",
        "- Input Sentence: \"lion stood thoughtfully for a moment\"\n",
        "\n",
        "- Input operation sequence: [OR, OR, OR]\n",
        "\n",
        "- Expected preprocessed query: \"lion OR stood OR thoughtfully OR moment\"\n",
        "\n",
        "2. Query #2\n",
        "\n",
        "- Input Sentence: \"telephone, paved, roads\"\n",
        "\n",
        "- Input operation sequence: [OR NOT, AND NOT]\n",
        "\n",
        "- Expected preprocessed query: \"telephone OR NOT paved AND NOT roads\n",
        "\n",
        "\n",
        "Output should include:\n",
        "- The number of documents retrieved\n",
        "\n",
        "- The minimum number of total comparisons made (only for merging the algorithm)\n",
        "\n",
        "- The list of retrieved document names"
      ]
    },
    {
      "cell_type": "code",
      "execution_count": null,
      "metadata": {
        "id": "JOhdl5F_qYUT"
      },
      "outputs": [],
      "source": [
        "#"
      ]
    },
    {
      "cell_type": "code",
      "execution_count": null,
      "metadata": {
        "id": "oT3YvvnvqYUT"
      },
      "outputs": [],
      "source": [
        "# displaying the required print statements\n",
        "print(\"Number of matched documents: \")\n",
        "print(\"Minimum number of comparisons required\")\n",
        "print(\"List of retreived document names: \")\n"
      ]
    }
  ],
  "metadata": {
    "kernelspec": {
      "display_name": "Python 3",
      "language": "python",
      "name": "python3"
    },
    "language_info": {
      "codemirror_mode": {
        "name": "ipython",
        "version": 3
      },
      "file_extension": ".py",
      "mimetype": "text/x-python",
      "name": "python",
      "nbconvert_exporter": "python",
      "pygments_lexer": "ipython3",
      "version": "3.11.2"
    },
    "colab": {
      "provenance": []
    }
  },
  "nbformat": 4,
  "nbformat_minor": 0
}
